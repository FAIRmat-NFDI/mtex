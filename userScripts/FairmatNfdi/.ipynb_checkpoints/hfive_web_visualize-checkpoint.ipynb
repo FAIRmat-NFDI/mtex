{
 "cells": [
  {
   "cell_type": "code",
   "execution_count": 13,
   "id": "04958a2b-2748-4c78-ba23-3d457f323d22",
   "metadata": {},
   "outputs": [],
   "source": [
    "import os\n",
    "import numpy as  np\n",
    "from jupyterlab_h5web import H5Web\n",
    "\n",
    "def get_file_size(file_name):\n",
    "    print(f\"{np.around(os.path.getsize(file_name)/1024/1024, decimals=3)} MiB\")"
   ]
  },
  {
   "cell_type": "code",
   "execution_count": 14,
   "id": "5fb47bad-da1d-4b4b-bec0-315fedb4d5d6",
   "metadata": {},
   "outputs": [
    {
     "name": "stdout",
     "output_type": "stream",
     "text": [
      "/home/kaiobach/Research/paper_paper_paper/scidat_nomad_em/bb_analysis/analysis/harvest_examples/mtextoolbox/mtex/userScripts/FairmatNfdi\n",
      "0.215 MiB\n"
     ]
    },
    {
     "data": {
      "application/x-hdf5": "/media/kaiobach/production/paper_paper_paper/scidat_nomad_em/mtex/001.7949bfb9989948420a9d30fdcf2c570b7f1f7867f7faef1b7ce89d18c7aecd0e.cpr.mtex",
      "text/plain": [
       "<jupyterlab_h5web.widget.H5Web object>"
      ]
     },
     "execution_count": 14,
     "metadata": {},
     "output_type": "execute_result"
    }
   ],
   "source": [
    "print(os.getcwd())\n",
    "trg = '/media/kaiobach/production/paper_paper_paper/scidat_nomad_em/mtex/001.7949bfb9989948420a9d30fdcf2c570b7f1f7867f7faef1b7ce89d18c7aecd0e.cpr.mtex'\n",
    "get_file_size(trg)\n",
    "H5Web(trg)"
   ]
  },
  {
   "cell_type": "code",
   "execution_count": null,
   "id": "69a39539-c442-4470-85ac-5bdd9d2b9ca3",
   "metadata": {},
   "outputs": [],
   "source": []
  }
 ],
 "metadata": {
  "kernelspec": {
   "display_name": "Python 3 (ipykernel)",
   "language": "python",
   "name": "python3"
  },
  "language_info": {
   "codemirror_mode": {
    "name": "ipython",
    "version": 3
   },
   "file_extension": ".py",
   "mimetype": "text/x-python",
   "name": "python",
   "nbconvert_exporter": "python",
   "pygments_lexer": "ipython3",
   "version": "3.11.5"
  }
 },
 "nbformat": 4,
 "nbformat_minor": 5
}
